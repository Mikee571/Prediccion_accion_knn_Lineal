{
 "cells": [
  {
   "attachments": {},
   "cell_type": "markdown",
   "metadata": {},
   "source": [
    "# Cargar Librerias"
   ]
  },
  {
   "cell_type": "code",
   "execution_count": 36,
   "metadata": {},
   "outputs": [],
   "source": [
    "import yfinance as yf\n",
    "import pandas as pd\n",
    "from sklearn.linear_model import LinearRegression\n",
    "from sklearn.ensemble import RandomForestRegressor\n",
    "from sklearn.neighbors import KNeighborsRegressor\n",
    "from sklearn.model_selection import train_test_split\n",
    "from sklearn.metrics import r2_score, mean_squared_error"
   ]
  },
  {
   "attachments": {},
   "cell_type": "markdown",
   "metadata": {},
   "source": [
    "# Cargar Datos"
   ]
  },
  {
   "cell_type": "code",
   "execution_count": 37,
   "metadata": {},
   "outputs": [
    {
     "name": "stdout",
     "output_type": "stream",
     "text": [
      "[*********************100%***********************]  1 of 1 completed\n"
     ]
    }
   ],
   "source": [
    "df = yf.download(\"BHP\", start=\"2020-01-01\", end=\"2023-03-30\")"
   ]
  },
  {
   "attachments": {},
   "cell_type": "markdown",
   "metadata": {},
   "source": [
    "# Variables"
   ]
  },
  {
   "cell_type": "code",
   "execution_count": 38,
   "metadata": {},
   "outputs": [],
   "source": [
    "X = df[['Open', 'High', 'Low', 'Volume']]\n",
    "y = df['Close']\n",
    "\n",
    "# Crear variables de entrada y salida\n",
    "X_train, X_test, y_train, y_test = train_test_split(X, y, test_size=0.2, random_state=42)"
   ]
  },
  {
   "attachments": {},
   "cell_type": "markdown",
   "metadata": {},
   "source": [
    "# Modelos"
   ]
  },
  {
   "attachments": {},
   "cell_type": "markdown",
   "metadata": {},
   "source": [
    "## Regresion Lineal"
   ]
  },
  {
   "cell_type": "code",
   "execution_count": 39,
   "metadata": {},
   "outputs": [],
   "source": [
    "lr = LinearRegression()\n",
    "lr.fit(X_train, y_train)\n",
    "lr_pred = lr.predict(X_test)"
   ]
  },
  {
   "attachments": {},
   "cell_type": "markdown",
   "metadata": {},
   "source": [
    "## Random Forest"
   ]
  },
  {
   "cell_type": "code",
   "execution_count": 40,
   "metadata": {},
   "outputs": [],
   "source": [
    "rf = RandomForestRegressor(n_estimators=100, random_state=42)\n",
    "rf.fit(X_train, y_train)\n",
    "rf_pred = rf.predict(X_test)"
   ]
  },
  {
   "attachments": {},
   "cell_type": "markdown",
   "metadata": {},
   "source": [
    "## KNN"
   ]
  },
  {
   "cell_type": "code",
   "execution_count": 41,
   "metadata": {},
   "outputs": [],
   "source": [
    "knn = KNeighborsRegressor(n_neighbors=5)\n",
    "knn.fit(X_train, y_train)\n",
    "knn_pred = knn.predict(X_test)"
   ]
  },
  {
   "attachments": {},
   "cell_type": "markdown",
   "metadata": {},
   "source": [
    "# Comparar"
   ]
  },
  {
   "cell_type": "code",
   "execution_count": 42,
   "metadata": {},
   "outputs": [
    {
     "name": "stdout",
     "output_type": "stream",
     "text": [
      "R2 score (Linear Regression): 0.9988639431115465\n",
      "MSE (Linear Regression): 0.11375060107063384\n",
      "R2 score (Random Forest): 0.9981917808950749\n",
      "MSE (Random Forest): 0.1810525618418902\n",
      "R2 score (k-NN): -0.38211322756399557\n",
      "MSE (k-NN): 138.38762123707454\n"
     ]
    }
   ],
   "source": [
    "print(\"R2 score (Linear Regression):\", r2_score(y_test, lr_pred))\n",
    "print(\"MSE (Linear Regression):\", mean_squared_error(y_test, lr_pred))\n",
    "print(\"R2 score (Random Forest):\", r2_score(y_test, rf_pred))\n",
    "print(\"MSE (Random Forest):\", mean_squared_error(y_test, rf_pred))\n",
    "print(\"R2 score (k-NN):\", r2_score(y_test, knn_pred))\n",
    "print(\"MSE (k-NN):\", mean_squared_error(y_test, knn_pred))"
   ]
  },
  {
   "attachments": {},
   "cell_type": "markdown",
   "metadata": {},
   "source": [
    "# Mejor Modelo"
   ]
  },
  {
   "cell_type": "code",
   "execution_count": 43,
   "metadata": {},
   "outputs": [],
   "source": [
    "best_model = rf"
   ]
  },
  {
   "attachments": {},
   "cell_type": "markdown",
   "metadata": {},
   "source": [
    "# Prediccion a 10 dias"
   ]
  },
  {
   "cell_type": "code",
   "execution_count": 44,
   "metadata": {},
   "outputs": [
    {
     "name": "stderr",
     "output_type": "stream",
     "text": [
      "c:\\Users\\mike5\\AppData\\Local\\Programs\\Python\\Python39\\lib\\site-packages\\sklearn\\base.py:439: UserWarning: X does not have valid feature names, but RandomForestRegressor was fitted with feature names\n",
      "  warnings.warn(\n",
      "C:\\Users\\mike5\\AppData\\Local\\Temp\\ipykernel_15860\\1743504874.py:8: FutureWarning: The frame.append method is deprecated and will be removed from pandas in a future version. Use pandas.concat instead.\n",
      "  df = df.append({'Open': next_features[0], 'High': next_features[1], 'Low': next_features[2], 'Close': next_price, 'Volume': next_features[3]}, ignore_index=True)\n",
      "c:\\Users\\mike5\\AppData\\Local\\Programs\\Python\\Python39\\lib\\site-packages\\sklearn\\base.py:439: UserWarning: X does not have valid feature names, but RandomForestRegressor was fitted with feature names\n",
      "  warnings.warn(\n",
      "C:\\Users\\mike5\\AppData\\Local\\Temp\\ipykernel_15860\\1743504874.py:8: FutureWarning: The frame.append method is deprecated and will be removed from pandas in a future version. Use pandas.concat instead.\n",
      "  df = df.append({'Open': next_features[0], 'High': next_features[1], 'Low': next_features[2], 'Close': next_price, 'Volume': next_features[3]}, ignore_index=True)\n",
      "c:\\Users\\mike5\\AppData\\Local\\Programs\\Python\\Python39\\lib\\site-packages\\sklearn\\base.py:439: UserWarning: X does not have valid feature names, but RandomForestRegressor was fitted with feature names\n",
      "  warnings.warn(\n",
      "C:\\Users\\mike5\\AppData\\Local\\Temp\\ipykernel_15860\\1743504874.py:8: FutureWarning: The frame.append method is deprecated and will be removed from pandas in a future version. Use pandas.concat instead.\n",
      "  df = df.append({'Open': next_features[0], 'High': next_features[1], 'Low': next_features[2], 'Close': next_price, 'Volume': next_features[3]}, ignore_index=True)\n",
      "c:\\Users\\mike5\\AppData\\Local\\Programs\\Python\\Python39\\lib\\site-packages\\sklearn\\base.py:439: UserWarning: X does not have valid feature names, but RandomForestRegressor was fitted with feature names\n",
      "  warnings.warn(\n",
      "C:\\Users\\mike5\\AppData\\Local\\Temp\\ipykernel_15860\\1743504874.py:8: FutureWarning: The frame.append method is deprecated and will be removed from pandas in a future version. Use pandas.concat instead.\n",
      "  df = df.append({'Open': next_features[0], 'High': next_features[1], 'Low': next_features[2], 'Close': next_price, 'Volume': next_features[3]}, ignore_index=True)\n",
      "c:\\Users\\mike5\\AppData\\Local\\Programs\\Python\\Python39\\lib\\site-packages\\sklearn\\base.py:439: UserWarning: X does not have valid feature names, but RandomForestRegressor was fitted with feature names\n",
      "  warnings.warn(\n",
      "C:\\Users\\mike5\\AppData\\Local\\Temp\\ipykernel_15860\\1743504874.py:8: FutureWarning: The frame.append method is deprecated and will be removed from pandas in a future version. Use pandas.concat instead.\n",
      "  df = df.append({'Open': next_features[0], 'High': next_features[1], 'Low': next_features[2], 'Close': next_price, 'Volume': next_features[3]}, ignore_index=True)\n",
      "c:\\Users\\mike5\\AppData\\Local\\Programs\\Python\\Python39\\lib\\site-packages\\sklearn\\base.py:439: UserWarning: X does not have valid feature names, but RandomForestRegressor was fitted with feature names\n",
      "  warnings.warn(\n",
      "C:\\Users\\mike5\\AppData\\Local\\Temp\\ipykernel_15860\\1743504874.py:8: FutureWarning: The frame.append method is deprecated and will be removed from pandas in a future version. Use pandas.concat instead.\n",
      "  df = df.append({'Open': next_features[0], 'High': next_features[1], 'Low': next_features[2], 'Close': next_price, 'Volume': next_features[3]}, ignore_index=True)\n",
      "c:\\Users\\mike5\\AppData\\Local\\Programs\\Python\\Python39\\lib\\site-packages\\sklearn\\base.py:439: UserWarning: X does not have valid feature names, but RandomForestRegressor was fitted with feature names\n",
      "  warnings.warn(\n",
      "C:\\Users\\mike5\\AppData\\Local\\Temp\\ipykernel_15860\\1743504874.py:8: FutureWarning: The frame.append method is deprecated and will be removed from pandas in a future version. Use pandas.concat instead.\n",
      "  df = df.append({'Open': next_features[0], 'High': next_features[1], 'Low': next_features[2], 'Close': next_price, 'Volume': next_features[3]}, ignore_index=True)\n",
      "c:\\Users\\mike5\\AppData\\Local\\Programs\\Python\\Python39\\lib\\site-packages\\sklearn\\base.py:439: UserWarning: X does not have valid feature names, but RandomForestRegressor was fitted with feature names\n",
      "  warnings.warn(\n",
      "C:\\Users\\mike5\\AppData\\Local\\Temp\\ipykernel_15860\\1743504874.py:8: FutureWarning: The frame.append method is deprecated and will be removed from pandas in a future version. Use pandas.concat instead.\n",
      "  df = df.append({'Open': next_features[0], 'High': next_features[1], 'Low': next_features[2], 'Close': next_price, 'Volume': next_features[3]}, ignore_index=True)\n",
      "c:\\Users\\mike5\\AppData\\Local\\Programs\\Python\\Python39\\lib\\site-packages\\sklearn\\base.py:439: UserWarning: X does not have valid feature names, but RandomForestRegressor was fitted with feature names\n",
      "  warnings.warn(\n",
      "C:\\Users\\mike5\\AppData\\Local\\Temp\\ipykernel_15860\\1743504874.py:8: FutureWarning: The frame.append method is deprecated and will be removed from pandas in a future version. Use pandas.concat instead.\n",
      "  df = df.append({'Open': next_features[0], 'High': next_features[1], 'Low': next_features[2], 'Close': next_price, 'Volume': next_features[3]}, ignore_index=True)\n",
      "c:\\Users\\mike5\\AppData\\Local\\Programs\\Python\\Python39\\lib\\site-packages\\sklearn\\base.py:439: UserWarning: X does not have valid feature names, but RandomForestRegressor was fitted with feature names\n",
      "  warnings.warn(\n",
      "C:\\Users\\mike5\\AppData\\Local\\Temp\\ipykernel_15860\\1743504874.py:8: FutureWarning: The frame.append method is deprecated and will be removed from pandas in a future version. Use pandas.concat instead.\n",
      "  df = df.append({'Open': next_features[0], 'High': next_features[1], 'Low': next_features[2], 'Close': next_price, 'Volume': next_features[3]}, ignore_index=True)\n"
     ]
    }
   ],
   "source": [
    "last_date = df.index[-1]\n",
    "date_range = pd.date_range(start=last_date, periods=10, freq='D')\n",
    "next_prices = []\n",
    "for date in date_range:\n",
    "    next_features = [df.iloc[-1]['Open'], df.iloc[-1]['High'], df.iloc[-1]['Low'], df.iloc[-1]['Volume']]\n",
    "    next_price = best_model.predict([next_features])[0]\n",
    "    next_prices.append(next_price)\n",
    "    df = df.append({'Open': next_features[0], 'High': next_features[1], 'Low': next_features[2], 'Close': next_price, 'Volume': next_features[3]}, ignore_index=True)\n"
   ]
  },
  {
   "cell_type": "code",
   "execution_count": 45,
   "metadata": {},
   "outputs": [
    {
     "name": "stdout",
     "output_type": "stream",
     "text": [
      "Predicted prices for the next 10 days:\n",
      "                   0\n",
      "2023-03-29  60.79906\n",
      "2023-03-30  60.79906\n",
      "2023-03-31  60.79906\n",
      "2023-04-01  60.79906\n",
      "2023-04-02  60.79906\n",
      "2023-04-03  60.79906\n",
      "2023-04-04  60.79906\n",
      "2023-04-05  60.79906\n",
      "2023-04-06  60.79906\n",
      "2023-04-07  60.79906\n"
     ]
    }
   ],
   "source": [
    "print(\"Predicted prices for the next 10 days:\")\n",
    "print(pd.DataFrame(next_prices, index=date_range))"
   ]
  }
 ],
 "metadata": {
  "kernelspec": {
   "display_name": "Python 3",
   "language": "python",
   "name": "python3"
  },
  "language_info": {
   "codemirror_mode": {
    "name": "ipython",
    "version": 3
   },
   "file_extension": ".py",
   "mimetype": "text/x-python",
   "name": "python",
   "nbconvert_exporter": "python",
   "pygments_lexer": "ipython3",
   "version": "3.9.6"
  },
  "orig_nbformat": 4,
  "vscode": {
   "interpreter": {
    "hash": "d0320a650b8e30dd046477c56b08e685e24666d024e6aba81e4e2fedd2a04f77"
   }
  }
 },
 "nbformat": 4,
 "nbformat_minor": 2
}
